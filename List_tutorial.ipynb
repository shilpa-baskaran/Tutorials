{
 "cells": [
  {
   "cell_type": "code",
   "execution_count": 4,
   "id": "0223ddfd",
   "metadata": {},
   "outputs": [
    {
     "data": {
      "text/plain": [
       "['j', 'k']"
      ]
     },
     "execution_count": 4,
     "metadata": {},
     "output_type": "execute_result"
    }
   ],
   "source": [
    "# format of list\n",
    "a=[1,2,3]\n",
    "b=['h','j','k']\n",
    "b[1:]"
   ]
  },
  {
   "cell_type": "code",
   "execution_count": 3,
   "id": "10eed9df",
   "metadata": {},
   "outputs": [
    {
     "data": {
      "text/plain": [
       "['b', 'e', 'r', 'l', 'i', 'n']"
      ]
     },
     "execution_count": 3,
     "metadata": {},
     "output_type": "execute_result"
    }
   ],
   "source": [
    "var = 'berlin'\n",
    "k = list((var))\n",
    "k"
   ]
  },
  {
   "cell_type": "code",
   "execution_count": 13,
   "id": "1b884b0e",
   "metadata": {},
   "outputs": [
    {
     "name": "stdout",
     "output_type": "stream",
     "text": [
      "no\n"
     ]
    }
   ],
   "source": [
    "# if any string inside of  list\n",
    "li = ['berlin','benilo','shilpa']\n",
    "if 'benio' in li:\n",
    "    print('yes')\n",
    "else:\n",
    "    print('no')"
   ]
  },
  {
   "cell_type": "markdown",
   "id": "45655679",
   "metadata": {},
   "source": [
    "## Replace"
   ]
  },
  {
   "cell_type": "code",
   "execution_count": 14,
   "id": "e374361f",
   "metadata": {},
   "outputs": [
    {
     "data": {
      "text/plain": [
       "['berlin', 'heart', 'shilpa']"
      ]
     },
     "execution_count": 14,
     "metadata": {},
     "output_type": "execute_result"
    }
   ],
   "source": [
    "#replace\n",
    "li[1]='heart'\n",
    "li"
   ]
  },
  {
   "cell_type": "code",
   "execution_count": 12,
   "id": "8b595fa5",
   "metadata": {},
   "outputs": [
    {
     "data": {
      "text/plain": [
       "['berlin', 'heart', ['we', 'kidney']]"
      ]
     },
     "execution_count": 12,
     "metadata": {},
     "output_type": "execute_result"
    }
   ],
   "source": [
    "# Replace with list\n",
    "li[2]=['we','kidney']\n",
    "li"
   ]
  },
  {
   "cell_type": "code",
   "execution_count": 15,
   "id": "1fdc11bb",
   "metadata": {},
   "outputs": [
    {
     "data": {
      "text/plain": [
       "['berlin', 'heart', 'we', 'kidney']"
      ]
     },
     "execution_count": 15,
     "metadata": {},
     "output_type": "execute_result"
    }
   ],
   "source": [
    "li[2:3] = ['we','kidney']\n",
    "li"
   ]
  },
  {
   "cell_type": "markdown",
   "id": "14947822",
   "metadata": {},
   "source": [
    "## Inserting data"
   ]
  },
  {
   "cell_type": "code",
   "execution_count": 16,
   "id": "b24b3017",
   "metadata": {},
   "outputs": [
    {
     "data": {
      "text/plain": [
       "['berlin', 'heart', 'shipha', 'we', 'kidney']"
      ]
     },
     "execution_count": 16,
     "metadata": {},
     "output_type": "execute_result"
    }
   ],
   "source": [
    "li.insert(2,'shipha')\n",
    "li"
   ]
  },
  {
   "cell_type": "code",
   "execution_count": 17,
   "id": "821fe102",
   "metadata": {},
   "outputs": [
    {
     "data": {
      "text/plain": [
       "['berlin', 'heart', 'shipha', 'we', 'kidney', 'orange']"
      ]
     },
     "execution_count": 17,
     "metadata": {},
     "output_type": "execute_result"
    }
   ],
   "source": [
    "li.append('orange')\n",
    "li"
   ]
  },
  {
   "cell_type": "code",
   "execution_count": 18,
   "id": "6c7de63a",
   "metadata": {
    "scrolled": true
   },
   "outputs": [
    {
     "data": {
      "text/plain": [
       "['berlin',\n",
       " 'heart',\n",
       " 'shipha',\n",
       " 'we',\n",
       " 'kidney',\n",
       " 'orange',\n",
       " 'HEART',\n",
       " 'KIDNEY',\n",
       " 'LUNG']"
      ]
     },
     "execution_count": 18,
     "metadata": {},
     "output_type": "execute_result"
    }
   ],
   "source": [
    "next = [\"HEART\",\"KIDNEY\",\"LUNG\"]\n",
    "li.extend(next)\n",
    "li"
   ]
  },
  {
   "cell_type": "markdown",
   "id": "70a97efd",
   "metadata": {},
   "source": [
    "## Removing Data"
   ]
  },
  {
   "cell_type": "code",
   "execution_count": 19,
   "id": "48eb6430",
   "metadata": {},
   "outputs": [
    {
     "data": {
      "text/plain": [
       "['berlin', 'shipha', 'we', 'kidney', 'orange', 'HEART', 'KIDNEY', 'LUNG']"
      ]
     },
     "execution_count": 19,
     "metadata": {},
     "output_type": "execute_result"
    }
   ],
   "source": [
    "li.remove('heart')\n",
    "li"
   ]
  },
  {
   "cell_type": "code",
   "execution_count": 20,
   "id": "e1f97463",
   "metadata": {},
   "outputs": [
    {
     "data": {
      "text/plain": [
       "['berlin', 'shipha', 'we', 'orange', 'HEART', 'KIDNEY', 'LUNG']"
      ]
     },
     "execution_count": 20,
     "metadata": {},
     "output_type": "execute_result"
    }
   ],
   "source": [
    "li.pop(3)\n",
    "li"
   ]
  },
  {
   "cell_type": "code",
   "execution_count": 21,
   "id": "52c58566",
   "metadata": {},
   "outputs": [
    {
     "data": {
      "text/plain": [
       "['berlin', 'shipha', 'we', 'orange', 'HEART', 'KIDNEY']"
      ]
     },
     "execution_count": 21,
     "metadata": {},
     "output_type": "execute_result"
    }
   ],
   "source": [
    "li.pop()\n",
    "li"
   ]
  },
  {
   "cell_type": "code",
   "execution_count": 22,
   "id": "b2f939e8",
   "metadata": {},
   "outputs": [
    {
     "data": {
      "text/plain": [
       "['shipha', 'we', 'orange', 'HEART', 'KIDNEY']"
      ]
     },
     "execution_count": 22,
     "metadata": {},
     "output_type": "execute_result"
    }
   ],
   "source": [
    "del li[0]\n",
    "li"
   ]
  },
  {
   "cell_type": "code",
   "execution_count": 23,
   "id": "b74eebe8",
   "metadata": {},
   "outputs": [
    {
     "data": {
      "text/plain": [
       "[]"
      ]
     },
     "execution_count": 23,
     "metadata": {},
     "output_type": "execute_result"
    }
   ],
   "source": [
    "li.clear()\n",
    "li"
   ]
  },
  {
   "cell_type": "markdown",
   "id": "73e1042e",
   "metadata": {},
   "source": [
    "## Looping list"
   ]
  },
  {
   "cell_type": "code",
   "execution_count": 24,
   "id": "cb93d444",
   "metadata": {},
   "outputs": [
    {
     "name": "stdout",
     "output_type": "stream",
     "text": [
      "two\n",
      "three\n",
      "four\n"
     ]
    }
   ],
   "source": [
    "# loop using index\n",
    "one=[\"two\",\"three\",\"four\"]\n",
    "for i in range(0,len(one)):\n",
    "    print(one[i])"
   ]
  },
  {
   "cell_type": "code",
   "execution_count": 26,
   "id": "55b5e39e",
   "metadata": {},
   "outputs": [
    {
     "name": "stdout",
     "output_type": "stream",
     "text": [
      "0\n",
      "1\n",
      "2\n",
      "3\n"
     ]
    }
   ],
   "source": [
    "# loop 0 to 5 pri\n",
    "print(0) # => i=0\n",
    "print(1) # => i=1\n",
    "print(2) # i=2\n",
    "print(3) # i=3"
   ]
  },
  {
   "cell_type": "code",
   "execution_count": 27,
   "id": "7c16b658",
   "metadata": {},
   "outputs": [
    {
     "name": "stdout",
     "output_type": "stream",
     "text": [
      "0\n",
      "1\n",
      "2\n"
     ]
    }
   ],
   "source": [
    "i=0\n",
    "print(i)\n",
    "i=1\n",
    "print(i)\n",
    "i=2\n",
    "print(i)"
   ]
  },
  {
   "cell_type": "code",
   "execution_count": 31,
   "id": "d793c1bf",
   "metadata": {},
   "outputs": [
    {
     "name": "stdout",
     "output_type": "stream",
     "text": [
      "3\n",
      "6\n",
      "9\n"
     ]
    }
   ],
   "source": [
    "for i in range(1,11): # 1,2,3..10\n",
    "    if i%3==0:\n",
    "        print(i)"
   ]
  },
  {
   "cell_type": "code",
   "execution_count": 34,
   "id": "6b72cf5b",
   "metadata": {},
   "outputs": [
    {
     "name": "stdout",
     "output_type": "stream",
     "text": [
      "1\n",
      "2\n",
      "3\n",
      "4\n",
      "5\n",
      "6\n",
      "7\n",
      "8\n",
      "9\n",
      "10\n"
     ]
    }
   ],
   "source": [
    "input_list = [1,2,3,4,5,6,7,8,9,10]\n",
    "for i in range(0,len(input_list)):\n",
    "    print(input_list[i]) # if we print i, index number will be print\n",
    "    \n"
   ]
  },
  {
   "cell_type": "code",
   "execution_count": 36,
   "id": "d8a2fffb",
   "metadata": {},
   "outputs": [
    {
     "name": "stdout",
     "output_type": "stream",
     "text": [
      "1\n",
      "2\n",
      "3\n",
      "4\n",
      "5\n",
      "6\n",
      "7\n",
      "8\n",
      "9\n",
      "10\n"
     ]
    }
   ],
   "source": [
    "# item\n",
    "for j in input_list:\n",
    "    print(j)"
   ]
  },
  {
   "cell_type": "code",
   "execution_count": 41,
   "id": "ebd6751d",
   "metadata": {},
   "outputs": [
    {
     "name": "stdout",
     "output_type": "stream",
     "text": [
      "[1, 5, 7, 8, 9]\n"
     ]
    }
   ],
   "source": [
    "# print items in loop without 3 in position\n",
    "first = [1,3,5,7,8,9]\n",
    "first.remove(3)\n",
    "print(first)\n"
   ]
  },
  {
   "cell_type": "code",
   "execution_count": 43,
   "id": "e74be4dc",
   "metadata": {},
   "outputs": [
    {
     "name": "stdout",
     "output_type": "stream",
     "text": [
      "1\n",
      "5\n",
      "7\n",
      "8\n",
      "9\n"
     ]
    }
   ],
   "source": [
    "for i in range(0,len(first)):\n",
    "    print(first[i])"
   ]
  },
  {
   "cell_type": "code",
   "execution_count": 45,
   "id": "fb9716f3",
   "metadata": {},
   "outputs": [
    {
     "name": "stdout",
     "output_type": "stream",
     "text": [
      "1\n",
      "5\n",
      "7\n",
      "8\n",
      "9\n"
     ]
    }
   ],
   "source": [
    "i=0\n",
    "while i<len(first): # 2<6\n",
    "    print(first[i]) # 2 -> 5\n",
    "    i = i+1 # i->2"
   ]
  },
  {
   "cell_type": "code",
   "execution_count": 49,
   "id": "002805a0",
   "metadata": {},
   "outputs": [
    {
     "name": "stdout",
     "output_type": "stream",
     "text": [
      "[0, 0, 0]\n",
      "[0, 0, 1]\n",
      "[0, 1, 0]\n",
      "[1, 0, 0]\n",
      "[1, 1, 1]\n"
     ]
    }
   ],
   "source": [
    "x=1\n",
    "y=1\n",
    "z=1\n",
    "n=2\n",
    "for i in range(0,x+1):# i=0 ->1\n",
    "    for j in range(0,y+1):# j=0 ->1\n",
    "        for k in range(0,z+1):# k=1 ->2\n",
    "            if i+j+k !=n:\n",
    "                print([i,j,k]) #[0,0,1]\n",
    "\n"
   ]
  },
  {
   "cell_type": "code",
   "execution_count": 52,
   "id": "d31d810c",
   "metadata": {},
   "outputs": [
    {
     "name": "stdout",
     "output_type": "stream",
     "text": [
      "[0, 0, 1]\n",
      "[1, 0, 1]\n"
     ]
    }
   ],
   "source": [
    "x=1\n",
    "y=0\n",
    "z=1\n",
    "# z - 1\n",
    "for i in range(0,x+1):\n",
    "    for j in range(0,z+1):\n",
    "        if j!=0:\n",
    "            print([i,y,j])"
   ]
  },
  {
   "cell_type": "code",
   "execution_count": 62,
   "id": "71b20aab",
   "metadata": {},
   "outputs": [
    {
     "name": "stdout",
     "output_type": "stream",
     "text": [
      "0\n",
      "1\n",
      "4\n",
      "9\n",
      "16\n",
      "25\n"
     ]
    }
   ],
   "source": [
    "n=6 # 0,1,4,9,16,25\n",
    "for i in range (0,n):\n",
    "    print(i**2)\n",
    "    \n",
    "    "
   ]
  },
  {
   "cell_type": "code",
   "execution_count": null,
   "id": "284d7d28",
   "metadata": {},
   "outputs": [],
   "source": [
    "n=8# odd\n",
    "for i in range (0,n):\n",
    "    if i%2!=0:\n",
    "        print(i**2)"
   ]
  },
  {
   "cell_type": "markdown",
   "id": "e7dc6e4e",
   "metadata": {},
   "source": [
    "## List compensation"
   ]
  },
  {
   "cell_type": "code",
   "execution_count": 1,
   "id": "d2ba7f31",
   "metadata": {},
   "outputs": [
    {
     "name": "stdout",
     "output_type": "stream",
     "text": [
      "['berlin', 'benilo', 'jack', 'apple']\n"
     ]
    }
   ],
   "source": [
    "for item in old_list:\n",
    "    new_list.append(item)\n",
    "print(new_list)"
   ]
  },
  {
   "cell_type": "markdown",
   "id": "8f3fe431",
   "metadata": {},
   "source": [
    "## sorting list"
   ]
  },
  {
   "cell_type": "code",
   "execution_count": 3,
   "id": "b87910cd",
   "metadata": {},
   "outputs": [
    {
     "data": {
      "text/plain": [
       "['apple', 'benilo', 'berlin', 'jack']"
      ]
     },
     "execution_count": 3,
     "metadata": {},
     "output_type": "execute_result"
    }
   ],
   "source": [
    "old_list.sort() # -> acending order\n",
    "old_list"
   ]
  },
  {
   "cell_type": "code",
   "execution_count": 4,
   "id": "1a1a5fa2",
   "metadata": {},
   "outputs": [
    {
     "data": {
      "text/plain": [
       "['jack', 'berlin', 'benilo', 'apple']"
      ]
     },
     "execution_count": 4,
     "metadata": {},
     "output_type": "execute_result"
    }
   ],
   "source": [
    "old_list.sort(reverse=True) # ->  decending order\n",
    "old_list"
   ]
  },
  {
   "cell_type": "code",
   "execution_count": 14,
   "id": "d49c6b98",
   "metadata": {},
   "outputs": [
    {
     "data": {
      "text/plain": [
       "[3, 4, 5, 7, 8, 9, 10, 13, 16, 21]"
      ]
     },
     "execution_count": 14,
     "metadata": {},
     "output_type": "execute_result"
    }
   ],
   "source": [
    "# Given\n",
    "a = [10,4,16,21,3,13,7,8,5,9] #- > [8-15]\n",
    "n=[]\n",
    "# soln\n",
    "a.sort()\n",
    "a\n"
   ]
  },
  {
   "cell_type": "code",
   "execution_count": 15,
   "id": "ecdbf8d2",
   "metadata": {},
   "outputs": [
    {
     "name": "stdout",
     "output_type": "stream",
     "text": [
      "[8, 9, 10, 13]\n"
     ]
    }
   ],
   "source": [
    "for numbers in a:\n",
    "    if numbers>=8 and numbers<=15:\n",
    "        n.append(numbers)\n",
    "print(n)"
   ]
  },
  {
   "cell_type": "code",
   "execution_count": 20,
   "id": "5a1ea857",
   "metadata": {},
   "outputs": [
    {
     "name": "stdout",
     "output_type": "stream",
     "text": [
      "[84, 67, 4, 3, 2]\n"
     ]
    }
   ],
   "source": [
    "f = [4,7,9,2,3,5,7,6] # lessthan 5\n",
    "\n",
    "b = [23,45,7,84,67] # greaterthan 45\n",
    "out = [] #[2,3,4]\n",
    "for numbers in f:\n",
    "    if numbers<5:\n",
    "        out.append(numbers)\n",
    "for numbers in b:\n",
    "    if numbers>45:\n",
    "        out.append(numbers)\n",
    "out.sort(reverse=True)\n",
    "print(out)\n",
    "\n",
    "        \n"
   ]
  },
  {
   "cell_type": "code",
   "execution_count": 21,
   "id": "6e920620",
   "metadata": {},
   "outputs": [
    {
     "data": {
      "text/plain": [
       "[4, 7, 9, 2, 3, 5, 7, 6]"
      ]
     },
     "execution_count": 21,
     "metadata": {},
     "output_type": "execute_result"
    }
   ],
   "source": [
    "# list copy\n",
    "copy_list = f.copy()\n",
    "copy_list"
   ]
  },
  {
   "cell_type": "code",
   "execution_count": 25,
   "id": "a334ea63",
   "metadata": {},
   "outputs": [
    {
     "data": {
      "text/plain": [
       "[11, 3, 5, 8, 7, 0]"
      ]
     },
     "execution_count": 25,
     "metadata": {},
     "output_type": "execute_result"
    }
   ],
   "source": [
    "# join two list\n",
    "f = [11,3,5]\n",
    "y=[8,7,0] \n",
    "g =f+y\n",
    "g"
   ]
  },
  {
   "cell_type": "code",
   "execution_count": 26,
   "id": "95f30b45",
   "metadata": {},
   "outputs": [
    {
     "data": {
      "text/plain": [
       "[19, 10, 5]"
      ]
     },
     "execution_count": 26,
     "metadata": {},
     "output_type": "execute_result"
    }
   ],
   "source": [
    "new = []\n",
    "for i in range(0,len(f)):\n",
    "    t = f[i] +y[i] # f->0, y-> 0\n",
    "    new.append(t)\n",
    "new"
   ]
  },
  {
   "cell_type": "code",
   "execution_count": null,
   "id": "a438240f",
   "metadata": {},
   "outputs": [],
   "source": []
  }
 ],
 "metadata": {
  "kernelspec": {
   "display_name": "Python 3",
   "language": "python",
   "name": "python3"
  },
  "language_info": {
   "codemirror_mode": {
    "name": "ipython",
    "version": 3
   },
   "file_extension": ".py",
   "mimetype": "text/x-python",
   "name": "python",
   "nbconvert_exporter": "python",
   "pygments_lexer": "ipython3",
   "version": "3.8.8"
  }
 },
 "nbformat": 4,
 "nbformat_minor": 5
}
