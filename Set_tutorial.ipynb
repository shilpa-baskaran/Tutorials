{
 "cells": [
  {
   "cell_type": "code",
   "execution_count": 2,
   "id": "de781f4e",
   "metadata": {},
   "outputs": [
    {
     "name": "stdout",
     "output_type": "stream",
     "text": [
      "<class 'set'>\n"
     ]
    }
   ],
   "source": [
    "myset = {1,2,34,56,6}\n",
    "print(type(myset))"
   ]
  },
  {
   "cell_type": "code",
   "execution_count": 5,
   "id": "2803ae4d",
   "metadata": {},
   "outputs": [
    {
     "data": {
      "text/plain": [
       "{2, 6, 45}"
      ]
     },
     "execution_count": 5,
     "metadata": {},
     "output_type": "execute_result"
    }
   ],
   "source": [
    "t = (2,45,6,6,45)\n",
    "f = set(t)\n",
    "f"
   ]
  },
  {
   "cell_type": "code",
   "execution_count": 6,
   "id": "4bff256b",
   "metadata": {},
   "outputs": [
    {
     "name": "stdout",
     "output_type": "stream",
     "text": [
      "2\n",
      "45\n",
      "6\n"
     ]
    }
   ],
   "source": [
    "for item in f:\n",
    "    print(item)"
   ]
  },
  {
   "cell_type": "code",
   "execution_count": 7,
   "id": "acb5f3b0",
   "metadata": {},
   "outputs": [
    {
     "data": {
      "text/plain": [
       "{'a', 'b', 'e', 'n'}"
      ]
     },
     "execution_count": 7,
     "metadata": {},
     "output_type": "execute_result"
    }
   ],
   "source": [
    "# adding set to set\n",
    "first = {'a','b'}\n",
    "second = {'e','n'}\n",
    "first.update(second)\n",
    "first"
   ]
  },
  {
   "cell_type": "code",
   "execution_count": 8,
   "id": "62aef074",
   "metadata": {},
   "outputs": [
    {
     "data": {
      "text/plain": [
       "{1, 23, 4, 'e', 'n'}"
      ]
     },
     "execution_count": 8,
     "metadata": {},
     "output_type": "execute_result"
    }
   ],
   "source": [
    "# adding list to set\n",
    "mylist = [1,23,4]\n",
    "second.update(mylist)\n",
    "second"
   ]
  },
  {
   "cell_type": "code",
   "execution_count": 9,
   "id": "6df5a9b7",
   "metadata": {},
   "outputs": [
    {
     "data": {
      "text/plain": [
       "{1, 4, 'e', 'n'}"
      ]
     },
     "execution_count": 9,
     "metadata": {},
     "output_type": "execute_result"
    }
   ],
   "source": [
    "# remove data from set\n",
    "second.remove(23)\n",
    "second"
   ]
  },
  {
   "cell_type": "code",
   "execution_count": 10,
   "id": "cf8936be",
   "metadata": {},
   "outputs": [
    {
     "data": {
      "text/plain": [
       "{1, 'e', 'n'}"
      ]
     },
     "execution_count": 10,
     "metadata": {},
     "output_type": "execute_result"
    }
   ],
   "source": [
    "# remove  data using discard\n",
    "second.discard(4)\n",
    "second"
   ]
  },
  {
   "cell_type": "code",
   "execution_count": 11,
   "id": "520728c3",
   "metadata": {},
   "outputs": [
    {
     "data": {
      "text/plain": [
       "{'e', 'n'}"
      ]
     },
     "execution_count": 11,
     "metadata": {},
     "output_type": "execute_result"
    }
   ],
   "source": [
    "# remove first element\n",
    "second.pop()\n",
    "second"
   ]
  },
  {
   "cell_type": "code",
   "execution_count": 13,
   "id": "2166594b",
   "metadata": {},
   "outputs": [
    {
     "name": "stdout",
     "output_type": "stream",
     "text": [
      "set()\n"
     ]
    }
   ],
   "source": [
    "second.clear()\n",
    "print(second)"
   ]
  },
  {
   "cell_type": "code",
   "execution_count": 20,
   "id": "10856b80",
   "metadata": {},
   "outputs": [
    {
     "data": {
      "text/plain": [
       "{'a', 'b', 'e', 'n'}"
      ]
     },
     "execution_count": 20,
     "metadata": {},
     "output_type": "execute_result"
    }
   ],
   "source": [
    "# set union\n",
    "first = {'a','b'}\n",
    "second = {'e','n','b'}\n",
    "union_data = first.union(second)\n",
    "union_data"
   ]
  },
  {
   "cell_type": "code",
   "execution_count": 22,
   "id": "ec80f10f",
   "metadata": {},
   "outputs": [],
   "source": [
    "# set intersection\n",
    "first.intersection_update(second)"
   ]
  },
  {
   "cell_type": "code",
   "execution_count": 23,
   "id": "44978c0a",
   "metadata": {},
   "outputs": [
    {
     "data": {
      "text/plain": [
       "{'b'}"
      ]
     },
     "execution_count": 23,
     "metadata": {},
     "output_type": "execute_result"
    }
   ],
   "source": [
    "first"
   ]
  },
  {
   "cell_type": "code",
   "execution_count": 25,
   "id": "6d261679",
   "metadata": {},
   "outputs": [
    {
     "data": {
      "text/plain": [
       "{'b'}"
      ]
     },
     "execution_count": 25,
     "metadata": {},
     "output_type": "execute_result"
    }
   ],
   "source": [
    "first = {'a','b'}\n",
    "second = {'e','n','b'}\n",
    "intersect = first.intersection(second)\n",
    "intersect"
   ]
  },
  {
   "cell_type": "code",
   "execution_count": null,
   "id": "d18e2da0",
   "metadata": {},
   "outputs": [],
   "source": []
  }
 ],
 "metadata": {
  "kernelspec": {
   "display_name": "Python 3",
   "language": "python",
   "name": "python3"
  },
  "language_info": {
   "codemirror_mode": {
    "name": "ipython",
    "version": 3
   },
   "file_extension": ".py",
   "mimetype": "text/x-python",
   "name": "python",
   "nbconvert_exporter": "python",
   "pygments_lexer": "ipython3",
   "version": "3.8.8"
  }
 },
 "nbformat": 4,
 "nbformat_minor": 5
}
