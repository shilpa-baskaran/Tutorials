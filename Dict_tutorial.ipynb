{
 "cells": [
  {
   "cell_type": "code",
   "execution_count": 4,
   "id": "96724bb3",
   "metadata": {},
   "outputs": [
    {
     "data": {
      "text/plain": [
       "{'car': ['ford', 'audi'], 'sweets': ['laddoo', 'halwa']}"
      ]
     },
     "execution_count": 4,
     "metadata": {},
     "output_type": "execute_result"
    }
   ],
   "source": [
    "a={\"car\":[\"ford\",\"audi\"],\"sweets\":[\"laddoo\",\"halwa\"]} # dict = {key:values}\n",
    "a"
   ]
  },
  {
   "cell_type": "code",
   "execution_count": 5,
   "id": "821d1ae7",
   "metadata": {},
   "outputs": [
    {
     "data": {
      "text/plain": [
       "dict_values([['ford', 'audi'], ['laddoo', 'halwa']])"
      ]
     },
     "execution_count": 5,
     "metadata": {},
     "output_type": "execute_result"
    }
   ],
   "source": [
    "# Get values from dictnory\n",
    "a.values()"
   ]
  },
  {
   "cell_type": "code",
   "execution_count": 6,
   "id": "a2ac3e6c",
   "metadata": {},
   "outputs": [
    {
     "data": {
      "text/plain": [
       "{'car': 'maruthi', 'sweets': ['laddoo', 'halwa']}"
      ]
     },
     "execution_count": 6,
     "metadata": {},
     "output_type": "execute_result"
    }
   ],
   "source": [
    "# replace value using key in dict\n",
    "a[\"car\"]=\"maruthi\"\n",
    "a"
   ]
  },
  {
   "cell_type": "code",
   "execution_count": 7,
   "id": "7b28f5c4",
   "metadata": {},
   "outputs": [
    {
     "data": {
      "text/plain": [
       "dict_items([('car', 'maruthi'), ('sweets', ['laddoo', 'halwa'])])"
      ]
     },
     "execution_count": 7,
     "metadata": {},
     "output_type": "execute_result"
    }
   ],
   "source": [
    "# display key and values\n",
    "a.items()"
   ]
  },
  {
   "cell_type": "code",
   "execution_count": 8,
   "id": "ab465437",
   "metadata": {},
   "outputs": [
    {
     "name": "stdout",
     "output_type": "stream",
     "text": [
      "yes car is present\n"
     ]
    }
   ],
   "source": [
    "# check key availability\n",
    "if 'car' in a:\n",
    "    print('yes car is present')\n",
    "else:\n",
    "    print('No car is present')\n",
    "        "
   ]
  },
  {
   "cell_type": "code",
   "execution_count": 15,
   "id": "dd1e8fef",
   "metadata": {},
   "outputs": [
    {
     "name": "stdout",
     "output_type": "stream",
     "text": [
      "present\n"
     ]
    }
   ],
   "source": [
    "# check value availability\n",
    "if 'marut' in a['car']:\n",
    "    print('present')\n",
    "else:\n",
    "    print('absent')"
   ]
  },
  {
   "cell_type": "code",
   "execution_count": 17,
   "id": "919e9a41",
   "metadata": {},
   "outputs": [
    {
     "data": {
      "text/plain": [
       "{'car': ['scoda', 'ferrari'], 'sweets': ['laddoo', 'halwa']}"
      ]
     },
     "execution_count": 17,
     "metadata": {},
     "output_type": "execute_result"
    }
   ],
   "source": [
    "# update dictnory\n",
    "a.update({'car':['scoda','ferrari']})\n",
    "a"
   ]
  },
  {
   "cell_type": "code",
   "execution_count": 18,
   "id": "b1e85613",
   "metadata": {},
   "outputs": [
    {
     "data": {
      "text/plain": [
       "{'car': ['scoda', 'ferrari'], 'sweets': ['laddoo', 'halwa'], 'movie': 3}"
      ]
     },
     "execution_count": 18,
     "metadata": {},
     "output_type": "execute_result"
    }
   ],
   "source": [
    "a.update({'movie':3})\n",
    "a"
   ]
  },
  {
   "cell_type": "code",
   "execution_count": 21,
   "id": "0620fe9f",
   "metadata": {},
   "outputs": [
    {
     "data": {
      "text/plain": [
       "{'car': ['scoda', 'ferrari'], 'movie': 3}"
      ]
     },
     "execution_count": 21,
     "metadata": {},
     "output_type": "execute_result"
    }
   ],
   "source": [
    "# remove item\n",
    "a.pop('sweets')\n",
    "a"
   ]
  },
  {
   "cell_type": "code",
   "execution_count": 23,
   "id": "24b4de7d",
   "metadata": {},
   "outputs": [
    {
     "data": {
      "text/plain": [
       "{'car': ['scoda', 'ferrari']}"
      ]
     },
     "execution_count": 23,
     "metadata": {},
     "output_type": "execute_result"
    }
   ],
   "source": [
    "# remove last values\n",
    "a.popitem()\n",
    "a"
   ]
  },
  {
   "cell_type": "code",
   "execution_count": 24,
   "id": "2a5abc57",
   "metadata": {},
   "outputs": [
    {
     "data": {
      "text/plain": [
       "{}"
      ]
     },
     "execution_count": 24,
     "metadata": {},
     "output_type": "execute_result"
    }
   ],
   "source": [
    "# Delete\n",
    "del a['car']\n",
    "a"
   ]
  },
  {
   "cell_type": "code",
   "execution_count": 27,
   "id": "e01ce3f3",
   "metadata": {},
   "outputs": [],
   "source": [
    "my_dict = {'a':1,\"b\":2}"
   ]
  },
  {
   "cell_type": "code",
   "execution_count": 26,
   "id": "bad1c812",
   "metadata": {},
   "outputs": [
    {
     "data": {
      "text/plain": [
       "{}"
      ]
     },
     "execution_count": 26,
     "metadata": {},
     "output_type": "execute_result"
    }
   ],
   "source": [
    "# clear entire dict\n",
    "my_dict.clear()\n",
    "my_dict"
   ]
  },
  {
   "cell_type": "code",
   "execution_count": 29,
   "id": "63c0522e",
   "metadata": {},
   "outputs": [
    {
     "name": "stdout",
     "output_type": "stream",
     "text": [
      "a\n",
      "b\n"
     ]
    }
   ],
   "source": [
    "# print key using loop\n",
    "for key in my_dict.keys():\n",
    "    print(key)"
   ]
  },
  {
   "cell_type": "code",
   "execution_count": 30,
   "id": "fbfaff8e",
   "metadata": {},
   "outputs": [
    {
     "name": "stdout",
     "output_type": "stream",
     "text": [
      "1\n",
      "2\n"
     ]
    }
   ],
   "source": [
    "# values in loop\n",
    "for value in my_dict.values():\n",
    "    print(value)"
   ]
  },
  {
   "cell_type": "code",
   "execution_count": 31,
   "id": "6bca3d54",
   "metadata": {},
   "outputs": [
    {
     "name": "stdout",
     "output_type": "stream",
     "text": [
      "a 1\n",
      "b 2\n"
     ]
    }
   ],
   "source": [
    "# both key and values\n",
    "for key, value in my_dict.items():\n",
    "    print(key,value)"
   ]
  },
  {
   "cell_type": "code",
   "execution_count": 32,
   "id": "59b02c04",
   "metadata": {},
   "outputs": [
    {
     "data": {
      "text/plain": [
       "{'read': {'my': 1}, 'car': 'maruthi'}"
      ]
     },
     "execution_count": 32,
     "metadata": {},
     "output_type": "execute_result"
    }
   ],
   "source": [
    "# nested dict\n",
    "book = {'my':1}\n",
    "g = {'read':book,'car':'maruthi'}\n",
    "g"
   ]
  },
  {
   "cell_type": "code",
   "execution_count": null,
   "id": "87f173a9",
   "metadata": {},
   "outputs": [],
   "source": []
  }
 ],
 "metadata": {
  "kernelspec": {
   "display_name": "Python 3",
   "language": "python",
   "name": "python3"
  },
  "language_info": {
   "codemirror_mode": {
    "name": "ipython",
    "version": 3
   },
   "file_extension": ".py",
   "mimetype": "text/x-python",
   "name": "python",
   "nbconvert_exporter": "python",
   "pygments_lexer": "ipython3",
   "version": "3.8.8"
  }
 },
 "nbformat": 4,
 "nbformat_minor": 5
}
