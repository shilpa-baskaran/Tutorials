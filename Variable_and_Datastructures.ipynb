{
 "cells": [
  {
   "cell_type": "code",
   "execution_count": 1,
   "id": "289ee3e5",
   "metadata": {},
   "outputs": [],
   "source": [
    "## variable\n",
    "\n",
    "a = 9 ## integer # a -> variable (word that store data)\n",
    "c = 4.4 # float\n",
    "v = 'berlin' # string"
   ]
  },
  {
   "cell_type": "code",
   "execution_count": 2,
   "id": "435f20a2",
   "metadata": {},
   "outputs": [],
   "source": [
    "## data struture\n",
    "\n",
    "data = [] # Empty list\n",
    "f = [1,3,5] # list\n",
    "t = (1,2) # tuple\n",
    "d = {1,2} # sets\n",
    "D = {a:'car'} # {key:value} # Dictionary"
   ]
  },
  {
   "cell_type": "code",
   "execution_count": 3,
   "id": "810c5bd0",
   "metadata": {},
   "outputs": [
    {
     "data": {
      "text/plain": [
       "str"
      ]
     },
     "execution_count": 3,
     "metadata": {},
     "output_type": "execute_result"
    }
   ],
   "source": [
    "# convertion\n",
    "### 1\n",
    "first = '4'\n",
    "type(first)"
   ]
  },
  {
   "cell_type": "code",
   "execution_count": 4,
   "id": "3755f965",
   "metadata": {},
   "outputs": [
    {
     "data": {
      "text/plain": [
       "int"
      ]
     },
     "execution_count": 4,
     "metadata": {},
     "output_type": "execute_result"
    }
   ],
   "source": [
    "f = 4\n",
    "type(f)"
   ]
  },
  {
   "cell_type": "code",
   "execution_count": 6,
   "id": "1ea3a577",
   "metadata": {},
   "outputs": [
    {
     "data": {
      "text/plain": [
       "4"
      ]
     },
     "execution_count": 6,
     "metadata": {},
     "output_type": "execute_result"
    }
   ],
   "source": [
    "# str -> int\n",
    "int(first)"
   ]
  },
  {
   "cell_type": "code",
   "execution_count": 10,
   "id": "0263e755",
   "metadata": {},
   "outputs": [],
   "source": [
    "first = int(first)"
   ]
  },
  {
   "cell_type": "code",
   "execution_count": 11,
   "id": "cd586fb0",
   "metadata": {},
   "outputs": [
    {
     "data": {
      "text/plain": [
       "int"
      ]
     },
     "execution_count": 11,
     "metadata": {},
     "output_type": "execute_result"
    }
   ],
   "source": [
    "type(first)"
   ]
  },
  {
   "cell_type": "code",
   "execution_count": 13,
   "id": "fdb02e53",
   "metadata": {},
   "outputs": [
    {
     "name": "stdout",
     "output_type": "stream",
     "text": [
      "3\n"
     ]
    }
   ],
   "source": [
    "### 2\n",
    "st = '3'\n",
    "t=int(st)\n",
    "print(t)"
   ]
  },
  {
   "cell_type": "code",
   "execution_count": 14,
   "id": "4cb79ceb",
   "metadata": {},
   "outputs": [
    {
     "data": {
      "text/plain": [
       "int"
      ]
     },
     "execution_count": 14,
     "metadata": {},
     "output_type": "execute_result"
    }
   ],
   "source": [
    "type(t)"
   ]
  },
  {
   "cell_type": "code",
   "execution_count": 15,
   "id": "bf974b50",
   "metadata": {},
   "outputs": [
    {
     "name": "stdout",
     "output_type": "stream",
     "text": [
      "4\n"
     ]
    }
   ],
   "source": [
    "# str to int\n",
    "a=4\n",
    "b=str(a)\n",
    "print(b)"
   ]
  },
  {
   "cell_type": "code",
   "execution_count": 16,
   "id": "2376fc07",
   "metadata": {},
   "outputs": [
    {
     "data": {
      "text/plain": [
       "str"
      ]
     },
     "execution_count": 16,
     "metadata": {},
     "output_type": "execute_result"
    }
   ],
   "source": [
    "type(b)"
   ]
  },
  {
   "cell_type": "code",
   "execution_count": 17,
   "id": "ba66592f",
   "metadata": {},
   "outputs": [
    {
     "name": "stdout",
     "output_type": "stream",
     "text": [
      "33.0 <class 'float'>\n"
     ]
    }
   ],
   "source": [
    "# int to float\n",
    "a=33\n",
    "f=float(a)\n",
    "print(f,type(f))"
   ]
  },
  {
   "cell_type": "code",
   "execution_count": 19,
   "id": "1779b99e",
   "metadata": {},
   "outputs": [
    {
     "name": "stdout",
     "output_type": "stream",
     "text": [
      "7\n"
     ]
    }
   ],
   "source": [
    "# same variable assumption\n",
    "a = 8\n",
    "a=7\n",
    "print(a)"
   ]
  },
  {
   "cell_type": "code",
   "execution_count": 22,
   "id": "a67359df",
   "metadata": {},
   "outputs": [
    {
     "name": "stdout",
     "output_type": "stream",
     "text": [
      "3 <class 'int'>\n"
     ]
    }
   ],
   "source": [
    "sb=3.8\n",
    "d=int(sb)\n",
    "print(d,type(d))"
   ]
  },
  {
   "cell_type": "code",
   "execution_count": null,
   "id": "70cebde1",
   "metadata": {},
   "outputs": [],
   "source": [
    "# 3.7\n",
    "# floor -> 3\n",
    "# ceil -> 4"
   ]
  },
  {
   "cell_type": "markdown",
   "id": "c32ce91f",
   "metadata": {},
   "source": [
    "## Mathemetical operation"
   ]
  },
  {
   "cell_type": "code",
   "execution_count": 23,
   "id": "bdc1dbda",
   "metadata": {},
   "outputs": [
    {
     "name": "stdout",
     "output_type": "stream",
     "text": [
      "3\n"
     ]
    }
   ],
   "source": [
    "import math\n",
    "print(math.floor(3.8))"
   ]
  },
  {
   "cell_type": "code",
   "execution_count": 24,
   "id": "3b683855",
   "metadata": {},
   "outputs": [
    {
     "name": "stdout",
     "output_type": "stream",
     "text": [
      "4\n"
     ]
    }
   ],
   "source": [
    "print(math.ceil(3.8))"
   ]
  },
  {
   "cell_type": "code",
   "execution_count": 26,
   "id": "31a57ea7",
   "metadata": {},
   "outputs": [
    {
     "name": "stdout",
     "output_type": "stream",
     "text": [
      "3\n"
     ]
    }
   ],
   "source": [
    "print(round(3.4))"
   ]
  },
  {
   "cell_type": "code",
   "execution_count": 27,
   "id": "12aa318d",
   "metadata": {},
   "outputs": [
    {
     "name": "stdout",
     "output_type": "stream",
     "text": [
      "5.0\n"
     ]
    }
   ],
   "source": [
    "print(math.sqrt(25))"
   ]
  },
  {
   "cell_type": "markdown",
   "id": "a90a585a",
   "metadata": {},
   "source": [
    "## OPERATORS"
   ]
  },
  {
   "cell_type": "code",
   "execution_count": 31,
   "id": "d565ccc8",
   "metadata": {},
   "outputs": [
    {
     "name": "stdout",
     "output_type": "stream",
     "text": [
      "6\n"
     ]
    }
   ],
   "source": [
    "a=4\n",
    "b=2\n",
    "c=a+b\n",
    "print(c)"
   ]
  },
  {
   "cell_type": "code",
   "execution_count": 32,
   "id": "87ee802e",
   "metadata": {},
   "outputs": [
    {
     "name": "stdout",
     "output_type": "stream",
     "text": [
      "2\n"
     ]
    }
   ],
   "source": [
    "d=a-b\n",
    "print(d)"
   ]
  },
  {
   "cell_type": "code",
   "execution_count": 33,
   "id": "b9d0a028",
   "metadata": {},
   "outputs": [
    {
     "name": "stdout",
     "output_type": "stream",
     "text": [
      "8\n"
     ]
    }
   ],
   "source": [
    "e=a*b\n",
    "print(e)"
   ]
  },
  {
   "cell_type": "code",
   "execution_count": 37,
   "id": "a2990717",
   "metadata": {},
   "outputs": [
    {
     "name": "stdout",
     "output_type": "stream",
     "text": [
      "0.8333333333333334\n"
     ]
    }
   ],
   "source": [
    "a=5\n",
    "b =6\n",
    "f=a/b\n",
    "print(f)"
   ]
  },
  {
   "cell_type": "code",
   "execution_count": 38,
   "id": "b1720104",
   "metadata": {},
   "outputs": [
    {
     "name": "stdout",
     "output_type": "stream",
     "text": [
      "5\n"
     ]
    }
   ],
   "source": [
    "# modulo\n",
    "G = a%b\n",
    "print(G)"
   ]
  },
  {
   "cell_type": "code",
   "execution_count": 39,
   "id": "dc2372f3",
   "metadata": {},
   "outputs": [
    {
     "name": "stdout",
     "output_type": "stream",
     "text": [
      "0\n"
     ]
    }
   ],
   "source": [
    "Q = a//b\n",
    "print(Q)"
   ]
  },
  {
   "cell_type": "code",
   "execution_count": 41,
   "id": "8ae76999",
   "metadata": {},
   "outputs": [
    {
     "name": "stdout",
     "output_type": "stream",
     "text": [
      "125\n"
     ]
    }
   ],
   "source": [
    "# power\n",
    "print(5**3)\n"
   ]
  },
  {
   "cell_type": "markdown",
   "id": "5080930f",
   "metadata": {},
   "source": [
    "## String"
   ]
  },
  {
   "cell_type": "code",
   "execution_count": 47,
   "id": "b59b32fb",
   "metadata": {},
   "outputs": [
    {
     "name": "stdout",
     "output_type": "stream",
     "text": [
      "berlin benilo\n"
     ]
    }
   ],
   "source": [
    "## data types\n",
    "#1. string\n",
    "# string merge\n",
    "first = 'berlin'\n",
    "second = 'benilo'\n",
    "s= first +' '+ second\n",
    "print(s)"
   ]
  },
  {
   "cell_type": "code",
   "execution_count": 48,
   "id": "16a83b0e",
   "metadata": {},
   "outputs": [
    {
     "data": {
      "text/plain": [
       "'b'"
      ]
     },
     "execution_count": 48,
     "metadata": {},
     "output_type": "execute_result"
    }
   ],
   "source": [
    "first[0]"
   ]
  },
  {
   "cell_type": "code",
   "execution_count": 49,
   "id": "847d6527",
   "metadata": {},
   "outputs": [
    {
     "data": {
      "text/plain": [
       "'l'"
      ]
     },
     "execution_count": 49,
     "metadata": {},
     "output_type": "execute_result"
    }
   ],
   "source": [
    "first[3]"
   ]
  },
  {
   "cell_type": "code",
   "execution_count": 52,
   "id": "96c37f13",
   "metadata": {},
   "outputs": [
    {
     "data": {
      "text/plain": [
       "'ber'"
      ]
     },
     "execution_count": 52,
     "metadata": {},
     "output_type": "execute_result"
    }
   ],
   "source": [
    "# Remove 'l' from string\n",
    "first[:3]"
   ]
  },
  {
   "cell_type": "code",
   "execution_count": 53,
   "id": "4597dc53",
   "metadata": {},
   "outputs": [
    {
     "data": {
      "text/plain": [
       "'in '"
      ]
     },
     "execution_count": 53,
     "metadata": {},
     "output_type": "execute_result"
    }
   ],
   "source": [
    "first[4:]"
   ]
  },
  {
   "cell_type": "code",
   "execution_count": 54,
   "id": "cc15f646",
   "metadata": {},
   "outputs": [
    {
     "data": {
      "text/plain": [
       "'berin '"
      ]
     },
     "execution_count": 54,
     "metadata": {},
     "output_type": "execute_result"
    }
   ],
   "source": [
    "first[:3]+first[4:]"
   ]
  },
  {
   "cell_type": "code",
   "execution_count": 55,
   "id": "2623b6e9",
   "metadata": {},
   "outputs": [
    {
     "data": {
      "text/plain": [
       "'berlin '"
      ]
     },
     "execution_count": 55,
     "metadata": {},
     "output_type": "execute_result"
    }
   ],
   "source": [
    "first"
   ]
  },
  {
   "cell_type": "markdown",
   "id": "5cdc5854",
   "metadata": {},
   "source": [
    "### task"
   ]
  },
  {
   "cell_type": "code",
   "execution_count": 13,
   "id": "3e78eba3",
   "metadata": {
    "scrolled": true
   },
   "outputs": [
    {
     "name": "stdout",
     "output_type": "stream",
     "text": [
      "shilpal@10\n"
     ]
    }
   ],
   "source": [
    "# concatinate\n",
    "a = 'shilpal'\n",
    "b = 10\n",
    "d=str(b)\n",
    "c=\"@\"\n",
    "e=a+c+d\n",
    "print(e)\n",
    "# output = shilpa@10\n",
    "# print(a+'@'+str(b))"
   ]
  },
  {
   "cell_type": "code",
   "execution_count": 14,
   "id": "cc017a38",
   "metadata": {},
   "outputs": [
    {
     "data": {
      "text/plain": [
       "7"
      ]
     },
     "execution_count": 14,
     "metadata": {},
     "output_type": "execute_result"
    }
   ],
   "source": [
    "len(a)"
   ]
  },
  {
   "cell_type": "code",
   "execution_count": 16,
   "id": "ad42609a",
   "metadata": {},
   "outputs": [
    {
     "name": "stdout",
     "output_type": "stream",
     "text": [
      "0\n",
      "s\n",
      "1\n",
      "h\n",
      "2\n",
      "i\n",
      "3\n",
      "l\n",
      "4\n",
      "p\n",
      "5\n",
      "a\n",
      "6\n",
      "1\n",
      "7\n",
      "1\n"
     ]
    }
   ],
   "source": [
    "a= 'shilpa11' # print values individually\n",
    "for i in range(0,len(a)):\n",
    "    print(i)\n",
    "    print(a[i])"
   ]
  },
  {
   "cell_type": "code",
   "execution_count": 17,
   "id": "2c7038e3",
   "metadata": {},
   "outputs": [
    {
     "name": "stdout",
     "output_type": "stream",
     "text": [
      "s\n",
      "h\n",
      "i\n",
      "l\n",
      "p\n",
      "a\n",
      "1\n",
      "1\n"
     ]
    }
   ],
   "source": [
    "for i in a:\n",
    "    print(i)"
   ]
  },
  {
   "cell_type": "code",
   "execution_count": 20,
   "id": "27f8a2f1",
   "metadata": {},
   "outputs": [
    {
     "name": "stdout",
     "output_type": "stream",
     "text": [
      "BERLIN\n"
     ]
    }
   ],
   "source": [
    "# upper\n",
    "inp = 'berlin'\n",
    "up = inp.upper()\n",
    "print(up)"
   ]
  },
  {
   "cell_type": "code",
   "execution_count": 22,
   "id": "e11a4ab8",
   "metadata": {},
   "outputs": [
    {
     "name": "stdout",
     "output_type": "stream",
     "text": [
      "berlin\n"
     ]
    }
   ],
   "source": [
    "# lower\n",
    "f = up.lower()\n",
    "print(f)"
   ]
  },
  {
   "cell_type": "code",
   "execution_count": 24,
   "id": "1a2abb7d",
   "metadata": {},
   "outputs": [
    {
     "data": {
      "text/plain": [
       "'ghhgle'"
      ]
     },
     "execution_count": 24,
     "metadata": {},
     "output_type": "execute_result"
    }
   ],
   "source": [
    "# replace r -> h\n",
    "g ='google'\n",
    "G = g.replace('o','h')\n",
    "print(G)"
   ]
  },
  {
   "cell_type": "code",
   "execution_count": 25,
   "id": "5e230776",
   "metadata": {},
   "outputs": [
    {
     "data": {
      "text/plain": [
       "['shilpa', 'basker']"
      ]
     },
     "execution_count": 25,
     "metadata": {},
     "output_type": "execute_result"
    }
   ],
   "source": [
    "# split sentence into word\n",
    "name = 'shilpa,basker'\n",
    "name.split(',')"
   ]
  },
  {
   "cell_type": "code",
   "execution_count": 27,
   "id": "94b2da6f",
   "metadata": {},
   "outputs": [
    {
     "name": "stdout",
     "output_type": "stream",
     "text": [
      "hello world 333\n"
     ]
    }
   ],
   "source": [
    "# Concatinate\n",
    "a= 'hello world {}'\n",
    "b=333\n",
    "print(a.format(b))"
   ]
  },
  {
   "cell_type": "code",
   "execution_count": 28,
   "id": "d605dd32",
   "metadata": {},
   "outputs": [
    {
     "name": "stdout",
     "output_type": "stream",
     "text": [
      "i had 3 apple and i given 2\n"
     ]
    }
   ],
   "source": [
    "total = 3\n",
    "given = 2\n",
    "sent = 'i had {} apple and i given {}'\n",
    "print(sent.format(total,given))"
   ]
  },
  {
   "cell_type": "markdown",
   "id": "ed7a570e",
   "metadata": {},
   "source": [
    "### Task"
   ]
  },
  {
   "cell_type": "code",
   "execution_count": 36,
   "id": "545d7d9e",
   "metadata": {},
   "outputs": [
    {
     "name": "stdout",
     "output_type": "stream",
     "text": [
      "i had apple  i given 2\n"
     ]
    }
   ],
   "source": [
    "sent = 'i had apple and i given 2'\n",
    "s=sent.replace('and',\"\")\n",
    "print(s)"
   ]
  },
  {
   "cell_type": "code",
   "execution_count": 40,
   "id": "88b06507",
   "metadata": {},
   "outputs": [
    {
     "name": "stdout",
     "output_type": "stream",
     "text": [
      "i had apple'berlin'and i given 2\n"
     ]
    }
   ],
   "source": [
    "sent = 'i had apple\\'berlin\\'and i given 2'\n",
    "print(sent)"
   ]
  },
  {
   "cell_type": "code",
   "execution_count": null,
   "id": "a424a8bd",
   "metadata": {},
   "outputs": [],
   "source": []
  }
 ],
 "metadata": {
  "kernelspec": {
   "display_name": "Python 3",
   "language": "python",
   "name": "python3"
  },
  "language_info": {
   "codemirror_mode": {
    "name": "ipython",
    "version": 3
   },
   "file_extension": ".py",
   "mimetype": "text/x-python",
   "name": "python",
   "nbconvert_exporter": "python",
   "pygments_lexer": "ipython3",
   "version": "3.8.8"
  }
 },
 "nbformat": 4,
 "nbformat_minor": 5
}
