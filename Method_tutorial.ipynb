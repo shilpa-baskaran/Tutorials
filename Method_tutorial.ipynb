{
 "cells": [
  {
   "cell_type": "code",
   "execution_count": 5,
   "id": "9c65c4dd",
   "metadata": {},
   "outputs": [],
   "source": [
    "## Functions or methods\n",
    "# addition method\n",
    "# 2 -> input\n",
    "# 1 -> out\n",
    "def addition(value1,value2): # def method_name(argument1, argument2)\n",
    "    out = value1 + value2\n",
    "    return out"
   ]
  },
  {
   "cell_type": "code",
   "execution_count": 6,
   "id": "c1972096",
   "metadata": {},
   "outputs": [
    {
     "name": "stdout",
     "output_type": "stream",
     "text": [
      "7\n"
     ]
    }
   ],
   "source": [
    "output = addition(3,4)\n",
    "print(output)"
   ]
  },
  {
   "cell_type": "code",
   "execution_count": 7,
   "id": "d2d01c40",
   "metadata": {},
   "outputs": [
    {
     "name": "stdout",
     "output_type": "stream",
     "text": [
      "Ima\n"
     ]
    }
   ],
   "source": [
    "def display(): # function_syntax(def) function_name(display)():\n",
    "    print('Ima')\n",
    "\n",
    "display()"
   ]
  },
  {
   "cell_type": "code",
   "execution_count": 10,
   "id": "2a0c7748",
   "metadata": {},
   "outputs": [],
   "source": [
    "# input -> list\n",
    "# output -> odd number count & even number count\n",
    "def shilpha(List):\n",
    "    odd_count = 0 # intialize\n",
    "    even_count = 0\n",
    "    for number in List:\n",
    "        if number%2==0:\n",
    "            even_count=even_count+1 # counter increment\n",
    "        elif number%2!=0:\n",
    "            odd_count = odd_count+1\n",
    "        else:\n",
    "            pass\n",
    "    return odd_count, even_count"
   ]
  },
  {
   "cell_type": "code",
   "execution_count": 13,
   "id": "7a0b68b4",
   "metadata": {},
   "outputs": [],
   "source": [
    "myList = [1,2,3,45,6,67,89,8]\n",
    "odd, even = shilpha(myList)"
   ]
  },
  {
   "cell_type": "code",
   "execution_count": 14,
   "id": "b51a74ce",
   "metadata": {},
   "outputs": [
    {
     "name": "stdout",
     "output_type": "stream",
     "text": [
      "5 3\n"
     ]
    }
   ],
   "source": [
    "print(odd, even)"
   ]
  },
  {
   "cell_type": "code",
   "execution_count": 35,
   "id": "2525e1b4",
   "metadata": {},
   "outputs": [],
   "source": [
    "def square(integer): # e.g -> 5\n",
    "    my_list=[]\n",
    "    for i in range(0,integer+1): # range(0,5+1) -> 0,1,2,3,4,5\n",
    "        square_data = i**2\n",
    "        my_list.append(square_data)\n",
    "    return my_list"
   ]
  },
  {
   "cell_type": "code",
   "execution_count": 38,
   "id": "24dd1bc7",
   "metadata": {},
   "outputs": [
    {
     "name": "stdout",
     "output_type": "stream",
     "text": [
      "[0, 1, 4, 9, 16, 25, 36, 49]\n"
     ]
    }
   ],
   "source": [
    "output = square(7)\n",
    "print(output)"
   ]
  },
  {
   "cell_type": "code",
   "execution_count": 49,
   "id": "f283c6eb",
   "metadata": {},
   "outputs": [],
   "source": [
    "# input -> list (if element in list  == 4) e.g -> [1,3,4,5,6] -> joy\n",
    "# output print('joy') else sad\n",
    "\n",
    "def Print_function(List):\n",
    "\n",
    "    for i in range(0,len(List)):\n",
    "        if List==4:\n",
    "            print(\"joy\")\n",
    "        else:\n",
    "            print(\"sad\")\n",
    "    return \n",
    "\n"
   ]
  },
  {
   "cell_type": "code",
   "execution_count": 50,
   "id": "ce0e7263",
   "metadata": {},
   "outputs": [
    {
     "name": "stdout",
     "output_type": "stream",
     "text": [
      "sad\n",
      "sad\n",
      "sad\n",
      "sad\n",
      "sad\n",
      "sad\n",
      "sad\n",
      "sad\n",
      "None\n"
     ]
    }
   ],
   "source": [
    "my_list=[1,2,3,4,5,6,7,8]\n",
    "output=Print_function(my_list)\n",
    "print(output)"
   ]
  },
  {
   "cell_type": "code",
   "execution_count": 47,
   "id": "125817b5",
   "metadata": {},
   "outputs": [
    {
     "data": {
      "text/plain": [
       "8"
      ]
     },
     "execution_count": 47,
     "metadata": {},
     "output_type": "execute_result"
    }
   ],
   "source": [
    "len(my_list)"
   ]
  },
  {
   "cell_type": "code",
   "execution_count": 73,
   "id": "34cdfc99",
   "metadata": {},
   "outputs": [],
   "source": [
    "## task\n",
    "# input-> 5 integer -> [0,1,2,3,4,5]\n",
    "# output -> [0,1,2,3,4,5,6,7,8] -> list\n",
    "\n",
    "def number(integer):\n",
    "    my_list=[]\n",
    "    for i in range(0,integer+1): # (0,6) _> integer no len -> list has len\n",
    "        my_list.append(i)\n",
    "    return my_list # 1\n",
    "    "
   ]
  },
  {
   "cell_type": "code",
   "execution_count": 74,
   "id": "f9a268fd",
   "metadata": {},
   "outputs": [
    {
     "name": "stdout",
     "output_type": "stream",
     "text": [
      "[0, 1, 2, 3, 4, 5, 6]\n"
     ]
    }
   ],
   "source": [
    "s=number(6)\n",
    "print(s)"
   ]
  },
  {
   "cell_type": "code",
   "execution_count": 75,
   "id": "5ba398db",
   "metadata": {},
   "outputs": [],
   "source": [
    "# input -> integer e.g -> 6 in\n",
    "# output -> divided by 2 ouput (integer) -> 3 out\n",
    "\n",
    "def divide(integer):\n",
    "    \n",
    "    division=integer/2\n",
    "    return division\n",
    "    "
   ]
  },
  {
   "cell_type": "code",
   "execution_count": 76,
   "id": "b21c2414",
   "metadata": {},
   "outputs": [
    {
     "name": "stdout",
     "output_type": "stream",
     "text": [
      "5.0\n"
     ]
    }
   ],
   "source": [
    "s=divide(10)\n",
    "print(s)"
   ]
  },
  {
   "cell_type": "code",
   "execution_count": 77,
   "id": "b50b9aa4",
   "metadata": {},
   "outputs": [
    {
     "data": {
      "text/plain": [
       "5"
      ]
     },
     "execution_count": 77,
     "metadata": {},
     "output_type": "execute_result"
    }
   ],
   "source": [
    "int(s)"
   ]
  },
  {
   "cell_type": "code",
   "execution_count": 82,
   "id": "e2bb49c8",
   "metadata": {},
   "outputs": [],
   "source": [
    "# input -> integer\n",
    "# output-> mulipy by 2 output of integer\n",
    "\n",
    "def multiply(integer): # 4\n",
    "    List=[] # empty\n",
    "    for i in range(1,integer+1): # (1,4) #i=1,9\n",
    "        k=i*2 # k=6\n",
    "        List.append(k) # [2,4,6]\n",
    "    return List\n",
    "        \n",
    "        "
   ]
  },
  {
   "cell_type": "code",
   "execution_count": 84,
   "id": "5ad4f594",
   "metadata": {},
   "outputs": [
    {
     "name": "stdout",
     "output_type": "stream",
     "text": [
      "[2, 4, 6, 8, 10, 12, 14, 16, 18, 20]\n"
     ]
    }
   ],
   "source": [
    "s=multiply(10)\n",
    "print(s)"
   ]
  },
  {
   "cell_type": "code",
   "execution_count": 89,
   "id": "33c321a7",
   "metadata": {},
   "outputs": [],
   "source": [
    "## integer input e.g 12 -> [2,4,6,8,12]\n",
    "\n",
    "def even(integer):\n",
    "    List=[]\n",
    "    for i in range(0,integer+1):\n",
    "        if i%2==0:\n",
    "            List.append(i)\n",
    "    return List\n",
    "            "
   ]
  },
  {
   "cell_type": "code",
   "execution_count": 90,
   "id": "eae948da",
   "metadata": {},
   "outputs": [
    {
     "name": "stdout",
     "output_type": "stream",
     "text": [
      "[0, 2, 4, 6, 8, 10, 12, 14, 16, 18, 20]\n"
     ]
    }
   ],
   "source": [
    "d=even(20)\n",
    "print(d)"
   ]
  },
  {
   "cell_type": "code",
   "execution_count": 94,
   "id": "448044ba",
   "metadata": {},
   "outputs": [],
   "source": [
    "# input -> integer e.g 10\n",
    "# output -> odd number /2 and even *2 -> list\n",
    "def numbers(integer):\n",
    "    odd_even=[]\n",
    "    for i in range(0,integer+1):\n",
    "        if i%2==0:\n",
    "            s=i*2\n",
    "            odd_even.append(s)\n",
    "        elif i%2!=0:\n",
    "            s=i/2\n",
    "            odd_even.append(s)\n",
    "    return odd_even\n",
    "        \n",
    "            \n",
    "            \n",
    "    \n",
    "\n"
   ]
  },
  {
   "cell_type": "code",
   "execution_count": 95,
   "id": "688db9b4",
   "metadata": {},
   "outputs": [
    {
     "name": "stdout",
     "output_type": "stream",
     "text": [
      "[0, 0.5, 4, 1.5, 8, 2.5, 12, 3.5, 16, 4.5, 20, 5.5, 24, 6.5, 28, 7.5, 32, 8.5, 36, 9.5, 40]\n"
     ]
    }
   ],
   "source": [
    "f=numbers(20)\n",
    "print(f)"
   ]
  },
  {
   "cell_type": "code",
   "execution_count": null,
   "id": "f5dc8c32",
   "metadata": {},
   "outputs": [],
   "source": []
  },
  {
   "cell_type": "code",
   "execution_count": null,
   "id": "bbc3a71a",
   "metadata": {},
   "outputs": [],
   "source": [
    "x=input((\"enter a number\"))\n",
    "if x==x:\n",
    "    print(\"true\")\n",
    "else:\n",
    "    print(\"false\")\n",
    "          "
   ]
  },
  {
   "cell_type": "code",
   "execution_count": null,
   "id": "abd1deec",
   "metadata": {},
   "outputs": [],
   "source": []
  },
  {
   "cell_type": "code",
   "execution_count": null,
   "id": "84fa9e8b",
   "metadata": {},
   "outputs": [],
   "source": []
  },
  {
   "cell_type": "code",
   "execution_count": null,
   "id": "587e0bc8",
   "metadata": {},
   "outputs": [],
   "source": []
  }
 ],
 "metadata": {
  "kernelspec": {
   "display_name": "Python 3",
   "language": "python",
   "name": "python3"
  }
 },
 "nbformat": 4,
 "nbformat_minor": 5
}
