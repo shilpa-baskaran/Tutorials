{
 "cells": [
  {
   "cell_type": "code",
   "execution_count": 1,
   "id": "bfc92186",
   "metadata": {},
   "outputs": [
    {
     "name": "stdout",
     "output_type": "stream",
     "text": [
      "Hello python\n"
     ]
    }
   ],
   "source": [
    "# printing data\n",
    "print(\"Hello python\")"
   ]
  },
  {
   "cell_type": "markdown",
   "id": "b3c19aed",
   "metadata": {},
   "source": [
    "### Data struture"
   ]
  },
  {
   "cell_type": "code",
   "execution_count": 5,
   "id": "93cd00c9",
   "metadata": {},
   "outputs": [
    {
     "name": "stdout",
     "output_type": "stream",
     "text": [
      "(1, 2, 3, 4, 5)\n"
     ]
    }
   ],
   "source": [
    "# tuples\n",
    "x = (1,2,3,4,5)\n",
    "print(x)"
   ]
  },
  {
   "cell_type": "code",
   "execution_count": 3,
   "id": "2624630c",
   "metadata": {},
   "outputs": [
    {
     "name": "stdout",
     "output_type": "stream",
     "text": [
      "[4, 2, 3, 45, 5]\n"
     ]
    }
   ],
   "source": [
    "# List\n",
    "y = [1,2,3,45,5]\n",
    "y[0] = 4\n",
    "print(y)"
   ]
  },
  {
   "cell_type": "code",
   "execution_count": 8,
   "id": "8c9b8a47",
   "metadata": {},
   "outputs": [
    {
     "name": "stdout",
     "output_type": "stream",
     "text": [
      "berlin\n"
     ]
    }
   ],
   "source": [
    "# Dict\n",
    "dict = {'car':'bmw','dog':'animal',3:'berlin'}\n",
    "print(dict.get(3))"
   ]
  },
  {
   "cell_type": "code",
   "execution_count": 11,
   "id": "5327f565",
   "metadata": {},
   "outputs": [
    {
     "name": "stdout",
     "output_type": "stream",
     "text": [
      "5\n"
     ]
    }
   ],
   "source": [
    "# set\n",
    "sets = {1,2,34,5,6}\n",
    "print(len(sets))"
   ]
  },
  {
   "cell_type": "markdown",
   "id": "bd3a5f08",
   "metadata": {},
   "source": [
    "### Conditional statement\n"
   ]
  },
  {
   "cell_type": "code",
   "execution_count": 18,
   "id": "2221cd42",
   "metadata": {},
   "outputs": [
    {
     "name": "stdout",
     "output_type": "stream",
     "text": [
      "y is bigger\n"
     ]
    }
   ],
   "source": [
    "x = 2\n",
    "y = 31\n",
    "c = 9\n",
    "if c>y and x>y :\n",
    "    print('c and x is greater than y')\n",
    "elif c>y or x>y:\n",
    "    print('c or x is greater')\n",
    "else:\n",
    "    print(\"y is bigger\")"
   ]
  },
  {
   "cell_type": "markdown",
   "id": "5a9f8b68",
   "metadata": {},
   "source": [
    "### loop statement"
   ]
  },
  {
   "cell_type": "code",
   "execution_count": 19,
   "id": "ea7f6cb2",
   "metadata": {},
   "outputs": [
    {
     "name": "stdout",
     "output_type": "stream",
     "text": [
      "[1, 2, 3, 4, 5]\n"
     ]
    }
   ],
   "source": [
    "v = [1,2,3,4,5]\n",
    "print(v)"
   ]
  },
  {
   "cell_type": "code",
   "execution_count": 20,
   "id": "0dca1ac5",
   "metadata": {
    "scrolled": true
   },
   "outputs": [
    {
     "name": "stdout",
     "output_type": "stream",
     "text": [
      "1\n",
      "2\n",
      "3\n",
      "4\n",
      "5\n"
     ]
    }
   ],
   "source": [
    "# elements\n",
    "for element in v:\n",
    "    print(element)"
   ]
  },
  {
   "cell_type": "code",
   "execution_count": 23,
   "id": "8487fc27",
   "metadata": {},
   "outputs": [
    {
     "name": "stdout",
     "output_type": "stream",
     "text": [
      "1\n",
      "2\n",
      "3\n",
      "4\n",
      "5\n",
      "6\n",
      "7\n",
      "8\n",
      "9\n"
     ]
    }
   ],
   "source": [
    "# index\n",
    "for i in range(1,10):\n",
    "    print(i)"
   ]
  },
  {
   "cell_type": "code",
   "execution_count": 26,
   "id": "a5543c93",
   "metadata": {},
   "outputs": [
    {
     "name": "stdout",
     "output_type": "stream",
     "text": [
      "0\n",
      "1\n",
      "2\n",
      "3\n",
      "4\n",
      "5\n",
      "6\n",
      "7\n",
      "8\n"
     ]
    }
   ],
   "source": [
    "# while loop\n",
    "i=9\n",
    "j=0\n",
    "while True:\n",
    "    if  j>=i:\n",
    "        break\n",
    "    else:\n",
    "        print(j)\n",
    "    j = j+1\n",
    "            "
   ]
  },
  {
   "cell_type": "markdown",
   "id": "66602ace",
   "metadata": {},
   "source": [
    "### functional or method statement"
   ]
  },
  {
   "cell_type": "code",
   "execution_count": 34,
   "id": "a178c5b1",
   "metadata": {},
   "outputs": [],
   "source": [
    "def added(a,b):\n",
    "    c = a+b\n",
    "    return c"
   ]
  },
  {
   "cell_type": "code",
   "execution_count": 36,
   "id": "96eb7421",
   "metadata": {},
   "outputs": [
    {
     "name": "stdout",
     "output_type": "stream",
     "text": [
      "37\n"
     ]
    }
   ],
   "source": [
    "x = added(33,4)\n",
    "print(x)"
   ]
  },
  {
   "cell_type": "code",
   "execution_count": null,
   "id": "bd3efbc6",
   "metadata": {},
   "outputs": [],
   "source": []
  }
 ],
 "metadata": {
  "kernelspec": {
   "display_name": "Python 3",
   "language": "python",
   "name": "python3"
  },
  "language_info": {
   "codemirror_mode": {
    "name": "ipython",
    "version": 3
   },
   "file_extension": ".py",
   "mimetype": "text/x-python",
   "name": "python",
   "nbconvert_exporter": "python",
   "pygments_lexer": "ipython3",
   "version": "3.8.8"
  }
 },
 "nbformat": 4,
 "nbformat_minor": 5
}
