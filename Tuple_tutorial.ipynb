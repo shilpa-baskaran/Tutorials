{
 "cells": [
  {
   "cell_type": "code",
   "execution_count": 1,
   "id": "6288232c",
   "metadata": {},
   "outputs": [],
   "source": [
    "#list = []\n",
    "# tuple = ()"
   ]
  },
  {
   "cell_type": "code",
   "execution_count": 10,
   "id": "fe307ccf",
   "metadata": {},
   "outputs": [
    {
     "data": {
      "text/plain": [
       "tuple"
      ]
     },
     "execution_count": 10,
     "metadata": {},
     "output_type": "execute_result"
    }
   ],
   "source": [
    "mydata = (2,4,6,8)\n",
    "type(mydata)"
   ]
  },
  {
   "cell_type": "code",
   "execution_count": 12,
   "id": "7a0aa44e",
   "metadata": {},
   "outputs": [
    {
     "name": "stdout",
     "output_type": "stream",
     "text": [
      "(4, 6)\n"
     ]
    }
   ],
   "source": [
    "print(mydata[1:3])"
   ]
  },
  {
   "cell_type": "markdown",
   "id": "60e921cc",
   "metadata": {},
   "source": [
    "# Task"
   ]
  },
  {
   "cell_type": "code",
   "execution_count": null,
   "id": "afce58a8",
   "metadata": {},
   "outputs": [],
   "source": [
    "# if tuple 4 present -> 4 is available\n",
    "# if tuple 6 present -> 6 is available\n",
    "#else 4 & 6 absent"
   ]
  },
  {
   "cell_type": "code",
   "execution_count": 14,
   "id": "4c7e95df",
   "metadata": {},
   "outputs": [
    {
     "name": "stdout",
     "output_type": "stream",
     "text": [
      "4 is available\n"
     ]
    }
   ],
   "source": [
    "if 4 in mydata:\n",
    "    print(\"4 is available\")\n",
    "elif 6 in mydata:\n",
    "    print(\"6 is available\")\n",
    "else:\n",
    "    print(\"not available\")"
   ]
  },
  {
   "cell_type": "code",
   "execution_count": 18,
   "id": "8c382c83",
   "metadata": {},
   "outputs": [
    {
     "name": "stdout",
     "output_type": "stream",
     "text": [
      "(2, 4, 6, 8)\n"
     ]
    }
   ],
   "source": [
    "# mydata[3] = 0\n",
    "print(mydata)"
   ]
  },
  {
   "cell_type": "markdown",
   "id": "609226e1",
   "metadata": {},
   "source": [
    "## Item assignment"
   ]
  },
  {
   "cell_type": "code",
   "execution_count": 21,
   "id": "ab551b00",
   "metadata": {},
   "outputs": [],
   "source": [
    "mydata = list(mydata) # tuple -> list\n",
    "mydata.append(0) # value adding\n",
    "mydata = tuple(mydata) # list -> tuple"
   ]
  },
  {
   "cell_type": "code",
   "execution_count": 22,
   "id": "5a303921",
   "metadata": {},
   "outputs": [
    {
     "data": {
      "text/plain": [
       "(2, 4, 6, 8, 0, 0)"
      ]
     },
     "execution_count": 22,
     "metadata": {},
     "output_type": "execute_result"
    }
   ],
   "source": [
    "mydata"
   ]
  },
  {
   "cell_type": "code",
   "execution_count": 23,
   "id": "e3f29ea5",
   "metadata": {},
   "outputs": [],
   "source": [
    "# asteriek item assignment\n",
    "fruit = ('apple','orange','grape','banana','cherry')"
   ]
  },
  {
   "cell_type": "code",
   "execution_count": 24,
   "id": "bf310016",
   "metadata": {},
   "outputs": [
    {
     "data": {
      "text/plain": [
       "('apple', 'orange', 'grape', 'banana', 'cherry')"
      ]
     },
     "execution_count": 24,
     "metadata": {},
     "output_type": "execute_result"
    }
   ],
   "source": [
    "fruit"
   ]
  },
  {
   "cell_type": "code",
   "execution_count": 25,
   "id": "e1c37db1",
   "metadata": {},
   "outputs": [],
   "source": [
    "(x,y,z,p,q)=('apple','orange','grape','banana','cherry')"
   ]
  },
  {
   "cell_type": "code",
   "execution_count": 28,
   "id": "40864ba7",
   "metadata": {},
   "outputs": [
    {
     "data": {
      "text/plain": [
       "'grape'"
      ]
     },
     "execution_count": 28,
     "metadata": {},
     "output_type": "execute_result"
    }
   ],
   "source": [
    "z"
   ]
  },
  {
   "cell_type": "code",
   "execution_count": 30,
   "id": "3f1b4cee",
   "metadata": {},
   "outputs": [],
   "source": [
    "(x,y,*z)=('apple','orange','grape','banana','cherry')"
   ]
  },
  {
   "cell_type": "code",
   "execution_count": 33,
   "id": "31c9ca79",
   "metadata": {},
   "outputs": [
    {
     "data": {
      "text/plain": [
       "['grape', 'banana', 'cherry']"
      ]
     },
     "execution_count": 33,
     "metadata": {},
     "output_type": "execute_result"
    }
   ],
   "source": [
    "z"
   ]
  },
  {
   "cell_type": "code",
   "execution_count": 35,
   "id": "94e18a68",
   "metadata": {},
   "outputs": [],
   "source": [
    "(x,*y,u,z)=('apple','orange','grape','banana','cherry')"
   ]
  },
  {
   "cell_type": "code",
   "execution_count": 36,
   "id": "22c53ee0",
   "metadata": {},
   "outputs": [
    {
     "data": {
      "text/plain": [
       "['orange', 'grape']"
      ]
     },
     "execution_count": 36,
     "metadata": {},
     "output_type": "execute_result"
    }
   ],
   "source": [
    "y"
   ]
  },
  {
   "cell_type": "code",
   "execution_count": 38,
   "id": "09e88594",
   "metadata": {},
   "outputs": [
    {
     "data": {
      "text/plain": [
       "('apple', 'orange', 'grape', 'banana', 'cherry')"
      ]
     },
     "execution_count": 38,
     "metadata": {},
     "output_type": "execute_result"
    }
   ],
   "source": [
    "fruit"
   ]
  },
  {
   "cell_type": "markdown",
   "id": "7991cc81",
   "metadata": {},
   "source": [
    "## Loop in tuple"
   ]
  },
  {
   "cell_type": "code",
   "execution_count": 40,
   "id": "89ff98b8",
   "metadata": {
    "scrolled": true
   },
   "outputs": [
    {
     "name": "stdout",
     "output_type": "stream",
     "text": [
      "apple\n",
      "orange\n",
      "grape\n",
      "banana\n",
      "cherry\n"
     ]
    }
   ],
   "source": [
    "for i in range(0,len(fruit)):\n",
    "    print(fruit[i])"
   ]
  },
  {
   "cell_type": "code",
   "execution_count": 42,
   "id": "4b4ad23a",
   "metadata": {},
   "outputs": [],
   "source": [
    "data = (1,2,34,5)"
   ]
  },
  {
   "cell_type": "markdown",
   "id": "e9df4f9a",
   "metadata": {},
   "source": [
    "## Join two tuple"
   ]
  },
  {
   "cell_type": "code",
   "execution_count": 43,
   "id": "bbe75544",
   "metadata": {},
   "outputs": [
    {
     "name": "stdout",
     "output_type": "stream",
     "text": [
      "('apple', 'orange', 'grape', 'banana', 'cherry', 1, 2, 34, 5)\n"
     ]
    }
   ],
   "source": [
    "x= fruit+data\n",
    "print(x)"
   ]
  },
  {
   "cell_type": "code",
   "execution_count": 45,
   "id": "02f64d1c",
   "metadata": {},
   "outputs": [
    {
     "data": {
      "text/plain": [
       "('apple',\n",
       " 'orange',\n",
       " 'grape',\n",
       " 'banana',\n",
       " 'cherry',\n",
       " 'apple',\n",
       " 'orange',\n",
       " 'grape',\n",
       " 'banana',\n",
       " 'cherry')"
      ]
     },
     "execution_count": 45,
     "metadata": {},
     "output_type": "execute_result"
    }
   ],
   "source": [
    "new = fruit*2\n",
    "new"
   ]
  },
  {
   "cell_type": "code",
   "execution_count": null,
   "id": "941dc487",
   "metadata": {},
   "outputs": [],
   "source": []
  }
 ],
 "metadata": {
  "kernelspec": {
   "display_name": "Python 3",
   "language": "python",
   "name": "python3"
  },
  "language_info": {
   "codemirror_mode": {
    "name": "ipython",
    "version": 3
   },
   "file_extension": ".py",
   "mimetype": "text/x-python",
   "name": "python",
   "nbconvert_exporter": "python",
   "pygments_lexer": "ipython3",
   "version": "3.8.8"
  }
 },
 "nbformat": 4,
 "nbformat_minor": 5
}
